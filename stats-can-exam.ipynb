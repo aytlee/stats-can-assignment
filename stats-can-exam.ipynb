{
 "cells": [
  {
   "cell_type": "markdown",
   "id": "8e396a8b",
   "metadata": {},
   "source": [
    "# Assignment 2 - Natural Disasters Dataset\n",
    "\n",
    "Author: Anna Lee\n",
    "\n",
    "Date: 2022-12-01"
   ]
  },
  {
   "cell_type": "markdown",
   "id": "4e6c6904",
   "metadata": {},
   "source": [
    "## Data Exploration of the Natural Disasters Datatset"
   ]
  },
  {
   "cell_type": "code",
   "execution_count": 1,
   "id": "96701709",
   "metadata": {},
   "outputs": [],
   "source": [
    "import os \n",
    "import pandas as pd\n",
    "import numpy as np \n",
    "import re\n",
    "\n",
    "import seaborn as sns \n",
    "from matplotlib import pyplot as plt"
   ]
  },
  {
   "cell_type": "code",
   "execution_count": 2,
   "id": "4a70ff76",
   "metadata": {
    "scrolled": true
   },
   "outputs": [
    {
     "name": "stdout",
     "output_type": "stream",
     "text": [
      "Shape of train dataset: (7613, 5)\n",
      "Shape of test dataset: (3263, 4)\n"
     ]
    }
   ],
   "source": [
    "train = pd.read_csv(r'train.csv')\n",
    "test = pd.read_csv(r'test.csv')\n",
    "\n",
    "print('Shape of train dataset:', train.shape)\n",
    "print('Shape of test dataset:', test.shape)\n"
   ]
  },
  {
   "cell_type": "code",
   "execution_count": 3,
   "id": "d0501429",
   "metadata": {},
   "outputs": [
    {
     "name": "stdout",
     "output_type": "stream",
     "text": [
      "<class 'pandas.core.frame.DataFrame'>\n",
      "RangeIndex: 7613 entries, 0 to 7612\n",
      "Data columns (total 5 columns):\n",
      " #   Column    Non-Null Count  Dtype \n",
      "---  ------    --------------  ----- \n",
      " 0   id        7613 non-null   int64 \n",
      " 1   keyword   7552 non-null   object\n",
      " 2   location  5080 non-null   object\n",
      " 3   text      7613 non-null   object\n",
      " 4   target    7613 non-null   int64 \n",
      "dtypes: int64(2), object(3)\n",
      "memory usage: 297.5+ KB\n",
      "0    4342\n",
      "1    3271\n",
      "Name: target, dtype: int64\n"
     ]
    },
    {
     "data": {
      "text/html": [
       "<div>\n",
       "<style scoped>\n",
       "    .dataframe tbody tr th:only-of-type {\n",
       "        vertical-align: middle;\n",
       "    }\n",
       "\n",
       "    .dataframe tbody tr th {\n",
       "        vertical-align: top;\n",
       "    }\n",
       "\n",
       "    .dataframe thead th {\n",
       "        text-align: right;\n",
       "    }\n",
       "</style>\n",
       "<table border=\"1\" class=\"dataframe\">\n",
       "  <thead>\n",
       "    <tr style=\"text-align: right;\">\n",
       "      <th></th>\n",
       "      <th>id</th>\n",
       "      <th>keyword</th>\n",
       "      <th>location</th>\n",
       "      <th>text</th>\n",
       "      <th>target</th>\n",
       "    </tr>\n",
       "  </thead>\n",
       "  <tbody>\n",
       "    <tr>\n",
       "      <th>0</th>\n",
       "      <td>1</td>\n",
       "      <td>NaN</td>\n",
       "      <td>NaN</td>\n",
       "      <td>Our Deeds are the Reason of this #earthquake M...</td>\n",
       "      <td>1</td>\n",
       "    </tr>\n",
       "    <tr>\n",
       "      <th>1</th>\n",
       "      <td>4</td>\n",
       "      <td>NaN</td>\n",
       "      <td>NaN</td>\n",
       "      <td>Forest fire near La Ronge Sask. Canada</td>\n",
       "      <td>1</td>\n",
       "    </tr>\n",
       "    <tr>\n",
       "      <th>2</th>\n",
       "      <td>5</td>\n",
       "      <td>NaN</td>\n",
       "      <td>NaN</td>\n",
       "      <td>All residents asked to 'shelter in place' are ...</td>\n",
       "      <td>1</td>\n",
       "    </tr>\n",
       "    <tr>\n",
       "      <th>3</th>\n",
       "      <td>6</td>\n",
       "      <td>NaN</td>\n",
       "      <td>NaN</td>\n",
       "      <td>13,000 people receive #wildfires evacuation or...</td>\n",
       "      <td>1</td>\n",
       "    </tr>\n",
       "    <tr>\n",
       "      <th>4</th>\n",
       "      <td>7</td>\n",
       "      <td>NaN</td>\n",
       "      <td>NaN</td>\n",
       "      <td>Just got sent this photo from Ruby #Alaska as ...</td>\n",
       "      <td>1</td>\n",
       "    </tr>\n",
       "  </tbody>\n",
       "</table>\n",
       "</div>"
      ],
      "text/plain": [
       "   id keyword location                                               text  \\\n",
       "0   1     NaN      NaN  Our Deeds are the Reason of this #earthquake M...   \n",
       "1   4     NaN      NaN             Forest fire near La Ronge Sask. Canada   \n",
       "2   5     NaN      NaN  All residents asked to 'shelter in place' are ...   \n",
       "3   6     NaN      NaN  13,000 people receive #wildfires evacuation or...   \n",
       "4   7     NaN      NaN  Just got sent this photo from Ruby #Alaska as ...   \n",
       "\n",
       "   target  \n",
       "0       1  \n",
       "1       1  \n",
       "2       1  \n",
       "3       1  \n",
       "4       1  "
      ]
     },
     "execution_count": 3,
     "metadata": {},
     "output_type": "execute_result"
    }
   ],
   "source": [
    "# Check out the train dataset \n",
    "train.info()\n",
    "print(train['target'].value_counts())\n",
    "train.head()"
   ]
  },
  {
   "cell_type": "code",
   "execution_count": 4,
   "id": "0e8086ef",
   "metadata": {
    "scrolled": true
   },
   "outputs": [
    {
     "name": "stdout",
     "output_type": "stream",
     "text": [
      "<class 'pandas.core.frame.DataFrame'>\n",
      "RangeIndex: 3263 entries, 0 to 3262\n",
      "Data columns (total 4 columns):\n",
      " #   Column    Non-Null Count  Dtype \n",
      "---  ------    --------------  ----- \n",
      " 0   id        3263 non-null   int64 \n",
      " 1   keyword   3237 non-null   object\n",
      " 2   location  2158 non-null   object\n",
      " 3   text      3263 non-null   object\n",
      "dtypes: int64(1), object(3)\n",
      "memory usage: 102.1+ KB\n"
     ]
    },
    {
     "data": {
      "text/html": [
       "<div>\n",
       "<style scoped>\n",
       "    .dataframe tbody tr th:only-of-type {\n",
       "        vertical-align: middle;\n",
       "    }\n",
       "\n",
       "    .dataframe tbody tr th {\n",
       "        vertical-align: top;\n",
       "    }\n",
       "\n",
       "    .dataframe thead th {\n",
       "        text-align: right;\n",
       "    }\n",
       "</style>\n",
       "<table border=\"1\" class=\"dataframe\">\n",
       "  <thead>\n",
       "    <tr style=\"text-align: right;\">\n",
       "      <th></th>\n",
       "      <th>id</th>\n",
       "      <th>keyword</th>\n",
       "      <th>location</th>\n",
       "      <th>text</th>\n",
       "    </tr>\n",
       "  </thead>\n",
       "  <tbody>\n",
       "    <tr>\n",
       "      <th>0</th>\n",
       "      <td>0</td>\n",
       "      <td>NaN</td>\n",
       "      <td>NaN</td>\n",
       "      <td>Just happened a terrible car crash</td>\n",
       "    </tr>\n",
       "    <tr>\n",
       "      <th>1</th>\n",
       "      <td>2</td>\n",
       "      <td>NaN</td>\n",
       "      <td>NaN</td>\n",
       "      <td>Heard about #earthquake is different cities, s...</td>\n",
       "    </tr>\n",
       "    <tr>\n",
       "      <th>2</th>\n",
       "      <td>3</td>\n",
       "      <td>NaN</td>\n",
       "      <td>NaN</td>\n",
       "      <td>there is a forest fire at spot pond, geese are...</td>\n",
       "    </tr>\n",
       "    <tr>\n",
       "      <th>3</th>\n",
       "      <td>9</td>\n",
       "      <td>NaN</td>\n",
       "      <td>NaN</td>\n",
       "      <td>Apocalypse lighting. #Spokane #wildfires</td>\n",
       "    </tr>\n",
       "    <tr>\n",
       "      <th>4</th>\n",
       "      <td>11</td>\n",
       "      <td>NaN</td>\n",
       "      <td>NaN</td>\n",
       "      <td>Typhoon Soudelor kills 28 in China and Taiwan</td>\n",
       "    </tr>\n",
       "  </tbody>\n",
       "</table>\n",
       "</div>"
      ],
      "text/plain": [
       "   id keyword location                                               text\n",
       "0   0     NaN      NaN                 Just happened a terrible car crash\n",
       "1   2     NaN      NaN  Heard about #earthquake is different cities, s...\n",
       "2   3     NaN      NaN  there is a forest fire at spot pond, geese are...\n",
       "3   9     NaN      NaN           Apocalypse lighting. #Spokane #wildfires\n",
       "4  11     NaN      NaN      Typhoon Soudelor kills 28 in China and Taiwan"
      ]
     },
     "execution_count": 4,
     "metadata": {},
     "output_type": "execute_result"
    }
   ],
   "source": [
    "# Check out the train dataset \n",
    "test.info()\n",
    "test.head()"
   ]
  },
  {
   "cell_type": "code",
   "execution_count": 5,
   "id": "4b5cd8e7",
   "metadata": {},
   "outputs": [
    {
     "name": "stdout",
     "output_type": "stream",
     "text": [
      "Real disaster tweets:\n",
      "@JohnFromCranber  Pleas FOR global warming don't really work when California / Australia keep having catastrophic 'bush' fires. \n",
      "\n",
      "Ignition Knock (Detonation) Sensor-Senso Standard KS94 http://t.co/IhphZCkm41 http://t.co/wuICdTTUhf \n",
      "\n",
      "Why did I come to work today.. Literally wanna collapse of exhaustion \n",
      "\n",
      "@robbiewilliams U fkn asswipe playing for Israeli child killers.. The fkn karma police will get U. \n",
      "\n",
      "@WaseemBadami Condemning of Deaths More than 1000 due to Heat Wave in Karachi. \n",
      "May Allah gv Patience to their Heirs. http://t.co/iTG84q7vIi \n",
      "\n",
      "Esteemed journalist recalls tragic effects of unaddressed #childhood #trauma. @keithboykin @RandallPinkston @pozarmy  http://t.co/GXq1Auzb18 \n",
      "\n",
      "??\n",
      "Warfighting Robots Could Reduce Civilian Casualties So Calling for a Ban Now Is Premature - IEEE Spectrum http://t.co/TzR58B86qz \n",
      "\n",
      "Families to sue over Legionnaires: More than 40 families affected by the fatal outbreak of Legionnaires' disea... http://t.co/02ELqLOpFk \n",
      "\n",
      "@115Film Doctor we must leave immediately the Core is unstable...The whole building is told to be evacuated. Take the research. We need... \n",
      "\n",
      "@HassanRouhani Wars doomed to destruction loss money must invest in Iran's inside that should not go outside \n",
      "\n"
     ]
    }
   ],
   "source": [
    "# Sample tweets labeled 1\n",
    "print('Real disaster tweets:')\n",
    "disaster_tweet = train.query('target==1')[['text']].sample(10)\n",
    "for i in disaster_tweet.iterrows():\n",
    "    print(disaster_tweet.loc[i[0], 'text'], '\\n')\n",
    "\n"
   ]
  },
  {
   "cell_type": "code",
   "execution_count": 6,
   "id": "51b8f808",
   "metadata": {
    "scrolled": false
   },
   "outputs": [
    {
     "name": "stdout",
     "output_type": "stream",
     "text": [
      "Not a disaster tweet:\n",
      "Please please u gotta listen to @leonalewis # essenceOfMe and thunder it's major\n",
      "#she's #back ???????? \n",
      "\n",
      "Don't think I Can take anymore emotional wreck watching @emmerdale #SummerFate @MikeParrActor @MissCharleyWebb \n",
      "\n",
      "'Save me from my self don't let me drown'. \n",
      "\n",
      "Damn greinke got blown up in that first inning \n",
      "\n",
      "It's baaaack!  Petersen's Bowhunting Battle of the Bows.  Make sure you head on over and cast your vote for your... http://t.co/FJ73gDvg2n \n",
      "\n",
      "Drake is really body bagging meek \n",
      "\n",
      "FedEx no longer will transport bioterror germs http://t.co/qfjjDxes7G via @USATODAY \n",
      "\n",
      "Vanderbilt: First Do No Harm http://t.co/cCdx7CGlQW \n",
      "\n",
      "Rise up like a natural disaster we take the bat and then we take back the town???? \n",
      "\n",
      "Megadeth Week - Symphony Of Destruction http://t.co/ECd7HiZja1 \n",
      "\n"
     ]
    }
   ],
   "source": [
    "# Sample tweets labeled 0 \n",
    "print('Not a disaster tweet:',)\n",
    "non_disaster_tweet = train.query('target==0')[['text']].sample(10)\n",
    "for i in non_disaster_tweet.iterrows():\n",
    "    print(non_disaster_tweet.loc[i[0], 'text'], '\\n')\n",
    "\n"
   ]
  },
  {
   "cell_type": "code",
   "execution_count": 7,
   "id": "f3a12aea",
   "metadata": {},
   "outputs": [
    {
     "name": "stdout",
     "output_type": "stream",
     "text": [
      "fatalities               45\n",
      "deluge                   42\n",
      "armageddon               42\n",
      "sinking                  41\n",
      "damage                   41\n",
      "                         ..\n",
      "forest%20fire            19\n",
      "epicentre                12\n",
      "threat                   11\n",
      "inundation               10\n",
      "radiation%20emergency     9\n",
      "Name: keyword, Length: 221, dtype: int64\n",
      "\n",
      "\n",
      "3629    Injuries Illnesses and Fatalities Latest Numbe...\n",
      "3637    -??-\\n; kitana\\n? her fatalities slay me\\nÛÓk...\n",
      "3642    Govt allocating 1.3 bn for flood action: Issue...\n",
      "3656    PolicyLab is at @CECANF's last public hearing ...\n",
      "3653    ...American casualties including 400000ÛÒ8000...\n",
      "Name: text, dtype: object\n",
      "\n",
      "\n",
      "3622    @kyrikoni @ExpressandStar Who said veg and fru...\n",
      "3619    Las Vegas in top 5 cities for red-light runnin...\n",
      "3634    mortal kombat fatalities are so gross but inte...\n",
      "3646    Sharing to help our cousin's family http://t.c...\n",
      "3630     http://t.co/JwIv6WYW6F Osage Beach releases name\n",
      "Name: text, dtype: object\n"
     ]
    }
   ],
   "source": [
    "print(train['keyword'].value_counts())\n",
    "fatalities = train.query('keyword==\"fatalities\"')\n",
    "\n",
    "print('\\n')\n",
    "print(fatalities.query('target==1').sample(5)['text'])\n",
    "print('\\n')\n",
    "print(fatalities.query('target==0').sample(5)['text'])"
   ]
  },
  {
   "cell_type": "code",
   "execution_count": 8,
   "id": "15ef9fc5",
   "metadata": {
    "scrolled": true
   },
   "outputs": [
    {
     "data": {
      "text/html": [
       "<div>\n",
       "<style scoped>\n",
       "    .dataframe tbody tr th:only-of-type {\n",
       "        vertical-align: middle;\n",
       "    }\n",
       "\n",
       "    .dataframe tbody tr th {\n",
       "        vertical-align: top;\n",
       "    }\n",
       "\n",
       "    .dataframe thead th {\n",
       "        text-align: right;\n",
       "    }\n",
       "</style>\n",
       "<table border=\"1\" class=\"dataframe\">\n",
       "  <thead>\n",
       "    <tr style=\"text-align: right;\">\n",
       "      <th></th>\n",
       "      <th>text</th>\n",
       "      <th>target</th>\n",
       "    </tr>\n",
       "  </thead>\n",
       "  <tbody>\n",
       "    <tr>\n",
       "      <th>0</th>\n",
       "      <td>! Residents Return To Destroyed Homes As Washi...</td>\n",
       "      <td>1</td>\n",
       "    </tr>\n",
       "    <tr>\n",
       "      <th>1</th>\n",
       "      <td># handbags Genuine Mulberry Antony Cross Body ...</td>\n",
       "      <td>1</td>\n",
       "    </tr>\n",
       "    <tr>\n",
       "      <th>2</th>\n",
       "      <td>#360WiseNews : China's Stock Market Crash: Are...</td>\n",
       "      <td>1</td>\n",
       "    </tr>\n",
       "    <tr>\n",
       "      <th>3</th>\n",
       "      <td>#360WiseNews : China's Stock Market Crash: Are...</td>\n",
       "      <td>1</td>\n",
       "    </tr>\n",
       "    <tr>\n",
       "      <th>4</th>\n",
       "      <td>#360WiseNews : China's Stock Market Crash: Are...</td>\n",
       "      <td>1</td>\n",
       "    </tr>\n",
       "  </tbody>\n",
       "</table>\n",
       "</div>"
      ],
      "text/plain": [
       "                                                text  target\n",
       "0  ! Residents Return To Destroyed Homes As Washi...       1\n",
       "1  # handbags Genuine Mulberry Antony Cross Body ...       1\n",
       "2  #360WiseNews : China's Stock Market Crash: Are...       1\n",
       "3  #360WiseNews : China's Stock Market Crash: Are...       1\n",
       "4  #360WiseNews : China's Stock Market Crash: Are...       1"
      ]
     },
     "execution_count": 8,
     "metadata": {},
     "output_type": "execute_result"
    }
   ],
   "source": [
    "multitweets = train.groupby(['text']).agg({\n",
    "    'target':'nunique'\n",
    "}).reset_index()\n",
    "\n",
    "multitweets.head()\n"
   ]
  },
  {
   "cell_type": "code",
   "execution_count": 9,
   "id": "a87f7a33",
   "metadata": {},
   "outputs": [
    {
     "name": "stdout",
     "output_type": "stream",
     "text": [
      "Headline: #360WiseNews : China's Stock Market Crash: Are There Gems In The Rubble? http://t.co/eaTFro3d5x\n",
      "Label: 0\n",
      "Headline: #360WiseNews : China's Stock Market Crash: Are There Gems In The Rubble? http://t.co/9Naw3QOQOL\n",
      "Label: 1\n",
      "Headline: #360WiseNews : China's Stock Market Crash: Are There Gems In The Rubble? http://t.co/aOd2ftBMGU\n",
      "Label: 1\n",
      "Headline: #360WiseNews : China's Stock Market Crash: Are There Gems In The Rubble? http://t.co/gQskwqZuUl\n",
      "Label: 0\n"
     ]
    }
   ],
   "source": [
    "indices = train[train['text'].str.contains('#360WiseNews')].index\n",
    "for idx in indices:\n",
    "    print('Headline:', train.loc[idx, 'text'])\n",
    "    print('Label:', train.loc[idx, 'target'])"
   ]
  },
  {
   "cell_type": "markdown",
   "id": "32440b36",
   "metadata": {},
   "source": [
    "Based on a scan of the tweets labeled 1 (real disaster) and 0 (not a real disaster), there appear to be some tweets that could be mislabeled. For example, one of the tweets labeled 1 said \"Didnt expect Drag Me Down to be the first song Pandora played\" (see below for example), which is unlikely to be an actual disaster. This could affect accuracy when trying to classify the tweets as some non-disaster tweets are mixed in with the real disaster tweets. \n",
    "\n",
    "In addition, there are certain tweets where the tweet content is the same, e.g. \"China's Stock Market Crash: Are There Gems in the Rubble?\"; however, the tweets are not labeled consistently. Two of the 4 tweets with this sentence are labeled as not disasters while the other two are labeled as real disasters. For the purposes of this notebook, I will leave these in for now; however, with additional time or if a more accurate model is required, it would be necessary to go through the tweets and remove duplicates and ensure consistency among the target labels. \n",
    "\n",
    "The ratio of the classes are not completely balanced with the ratios standing at ~57% labeled 0 and ~43% labeled 1. For the purposes of this classification exercise, I will also not use the keyword and location values. The same keywords are used for both tweets about real disasters and non-disasters. In addition the keyword may appear in the tweet itself and may just add redundancy to the dataset. "
   ]
  },
  {
   "cell_type": "code",
   "execution_count": 10,
   "id": "37060489",
   "metadata": {},
   "outputs": [
    {
     "data": {
      "text/plain": [
       "'OMFG??\\nDidnt expect Drag Me Down to be the first song Pandora played \\n\\nOMFG I SCREAMED SO LOUD\\nMy coworker is scared http://t.co/VzcvAdkcQp'"
      ]
     },
     "execution_count": 10,
     "metadata": {},
     "output_type": "execute_result"
    }
   ],
   "source": [
    "# Example of a possibly mislabeled tweet\n",
    "train.loc[5918, 'text']"
   ]
  },
  {
   "cell_type": "markdown",
   "id": "92e5bf0b",
   "metadata": {},
   "source": [
    "### Task 1 - Bag of Words Model\n",
    "#### Text preprocessing\n",
    "\n",
    "The Bag of Words model is one of the simplest NLP models to use. It takes text as input and converts those words into vectors by counting the frequency of the words in the documents. To improve the model, it is necessary to remove redundancy or noise in the data before using the Bag of Words model for classification. An example of noise could be stop words or punctuation. The Bag of Words model is not able to pick up sentiment as it is merely a count of the frequency, so removing these details (e.g. punctuation) should not negatively impact the model.  \n",
    "\n",
    "In terms of preprocessing I will be processing the text as follows:\n",
    "- removal of links (starting with http) \n",
    "- removal of punctuation\n",
    "- removal of non-ascii characters - certain letters apear to be accented, these could be actual accented letters but from the exploration they look to be certain symbols/emojis that were converted to text strangely and it would be better to remove them \n",
    "- remove twitter handles (words starting with @)\n",
    "- removal of digits \n",
    "- removal of additional white spaces or single characters that may be left over from other preprocessing\n",
    "\n",
    "The reason for removing/replacing the above is to reduce the noise in the dataset. Every word will be put into the Bag of Words model when the texts are passed into it. Not removing these words or characters would increase the vocabulary of the model, not only adding noise, but also increasing the sparsity of the resulting matrix output. This would make it more difficult to compute the result when passing this sparse matrix to a classfier. \n",
    "\n",
    "**Note**: There may be duplicates of the tweets in the dataset, especially after preprocessing the text to remove certain details (e.g. links). For the sake of time, I will leave these in for now, as this may require further review to determine whether these are actually duplicates or not. "
   ]
  },
  {
   "cell_type": "code",
   "execution_count": 11,
   "id": "66ed4211",
   "metadata": {},
   "outputs": [],
   "source": [
    "# Process text\n",
    "\n",
    "# create a copy of the train to keep the original as is\n",
    "X_processed = train.copy()\n",
    "\n",
    "# Lower case all tweets\n",
    "X_processed['text'] = X_processed['text'].str.lower()\n",
    "\n",
    "# remove links from the tweets\n",
    "X_processed['text'] = X_processed['text'].str.replace(r'(http\\S+)', '', regex=True)\n",
    "\n",
    "# remove twitter handles\n",
    "X_processed['text'] = X_processed['text'].str.replace(r'(@\\S+)', '', regex=True)\n",
    "\n",
    "# remove the apostrophes and replace with no space to retain contractions \n",
    "X_processed['text'] = X_processed['text'].str.replace(\"'\", \"\", regex=False)\n",
    "\n",
    "# remove all non-ascii characters\n",
    "X_processed['text'] = X_processed['text'].str.replace(r'([^\\x00-\\x7F]+)', ' ', regex=True)\n",
    "\n",
    "# remove all periods \n",
    "X_processed['text'] = X_processed['text'].str.replace('\\.', '', regex=True)\n",
    "\n",
    "# remove all underscores \n",
    "X_processed['text'] = X_processed['text'].str.replace(r'(_+)', ' ', regex=True)\n",
    "\n",
    "# remove all digits\n",
    "X_processed['text'] = X_processed['text'].str.replace(r'(\\d+)', '', regex=True)\n",
    "\n",
    "# remove non-word characters\n",
    "X_processed['text'] = X_processed['text'].str.replace(r'(\\W)', ' ', regex=True)\n",
    "\n",
    "# remove excess spaces and replace with one space\n",
    "X_processed['text'] = X_processed['text'].str.replace(r'(\\s+)', ' ', regex=True)\n",
    "\n",
    "# strip all trailing whitespaces\n",
    "X_processed['text'] = X_processed['text'].str.strip()\n"
   ]
  },
  {
   "cell_type": "code",
   "execution_count": 12,
   "id": "debafa69",
   "metadata": {
    "scrolled": false
   },
   "outputs": [
    {
     "name": "stdout",
     "output_type": "stream",
     "text": [
      "japan heat wave intensifies death toll surges to \n",
      "\n",
      "Japan Heat Wave Intensifies ÛÒ Death Toll Surges To 55  http://t.co/irpSSresRq \n",
      "\n",
      "then find cougars who look like her even better if theyre in military uniform \n",
      "\n",
      "@FurTrix then find cougars who look like her even better if they're in military uniform! \n",
      "\n",
      "your bf gf crush \n",
      "\n",
      "'@jorrynja: 6. @ your bf/gf/crush ??' @Ter_ell ?? \n",
      "\n",
      "pt the unit attacked by is was responsible for targeting muslim scholars and imprisoning the youth \n",
      "\n",
      "#PT: The unit attacked by IS was responsible for targeting Muslim Scholars and imprisoning the youth. http://t.co/f4LhfmEhzh \n",
      "\n",
      "debatequestionswewanttohear if u start another war would u b willing go the war zone yourself or send ur sons and or daughters fight \n",
      "\n",
      "#DebateQuestionsWeWantToHear If U start another war would U B willing 2 go 2 the war-zone yourself or send UR sons and/or daughters 2 fight? \n",
      "\n",
      "i went to pick up my lunch today and the bartender was holding my change hostage because he wanted my number \n",
      "\n",
      "I went to pick up my lunch today and the bartender was holding my change hostage because he wanted my number. ?? \n",
      "\n",
      "we walk the plank of a sinking ship \n",
      "\n",
      "We walk the plank of a sinking ship \n",
      "\n",
      "seeing that army of whitewalkers was the very first thing that has slightly intrigued me on got so far \n",
      "\n",
      "Seeing that army of whitewalkers was the very first thing that has slightly intrigued me on GoT so far \n",
      "\n",
      "when he lets you drive his truck and you start panicking because you had to flip that bitch \n",
      "\n",
      "When he lets you drive his truck and you start panicking because you had to 'flip that bitch'. ?????? http://t.co/W6O0uiZF8p \n",
      "\n",
      "put this in detroit niggas gone be acting out tryna fuck n drown mfs loose they buffs in the water \n",
      "\n",
      "@CortneyMo_ put this in Detroit niggas gone be acting out?? tryna fuck n drown mfs????????loose they buffs in the water?? https://t.co/OAQtjawGxg \n",
      "\n"
     ]
    }
   ],
   "source": [
    "# Check if processing text has worked\n",
    "test_processed = X_processed[['text']].sample(10)\n",
    "for i in test_processed.iterrows():\n",
    "    print(test_processed.loc[i[0], 'text'], '\\n')\n",
    "    print(train.loc[i[0], 'text'], '\\n')"
   ]
  },
  {
   "cell_type": "markdown",
   "id": "d64f46a3",
   "metadata": {},
   "source": [
    "### Training the Model"
   ]
  },
  {
   "cell_type": "code",
   "execution_count": 13,
   "id": "57e65f3d",
   "metadata": {
    "scrolled": true
   },
   "outputs": [
    {
     "name": "stdout",
     "output_type": "stream",
     "text": [
      "Distribution ratio - train: 0.43253893788703324\n",
      "Distribution ratio - test: 0.42294220665499127\n"
     ]
    }
   ],
   "source": [
    "# use count vectorizer to vectorize the words and then \n",
    "import nltk \n",
    "from nltk.corpus import stopwords \n",
    "from nltk.tokenize import TweetTokenizer\n",
    "from sklearn.feature_extraction.text import CountVectorizer\n",
    "from sklearn.model_selection import train_test_split\n",
    "from sklearn.linear_model import LogisticRegression\n",
    "from sklearn import metrics \n",
    "\n",
    "\n",
    "# Split the training set first\n",
    "# Fit and transform the X_train dataset \n",
    "# Then transform the X_test using the fitted parameters from X_train\n",
    "tokenizer = TweetTokenizer()\n",
    "\n",
    "X = np.array(X_processed['text']) \n",
    "y = np.array(X_processed['target'])\n",
    "X_train, X_test, y_train, y_test = train_test_split(X, y, test_size = 0.3, random_state=42)\n",
    "\n",
    "ratio_train = y_train.sum()/len(y_train)\n",
    "print('Distribution ratio - train:', ratio_train)\n",
    "ratio_test = y_test.sum()/len(y_test)\n",
    "print('Distribution ratio - test:', ratio_test)\n",
    "\n",
    "# The data has been split and roughly matches the distribution of the original dataset"
   ]
  },
  {
   "cell_type": "code",
   "execution_count": 14,
   "id": "33b93d0b",
   "metadata": {
    "scrolled": false
   },
   "outputs": [
    {
     "name": "stdout",
     "output_type": "stream",
     "text": [
      "Size of vocabulary: (5329, 11505)\n"
     ]
    },
    {
     "name": "stderr",
     "output_type": "stream",
     "text": [
      "C:\\Users\\anne_\\Anaconda3\\envs\\trupanion\\lib\\site-packages\\sklearn\\utils\\deprecation.py:87: FutureWarning: Function get_feature_names is deprecated; get_feature_names is deprecated in 1.0 and will be removed in 1.2. Please use get_feature_names_out instead.\n",
      "  warnings.warn(msg, category=FutureWarning)\n"
     ]
    },
    {
     "data": {
      "text/plain": [
       "['aa',\n",
       " 'aaaa',\n",
       " 'aaaaaaallll',\n",
       " 'aaarrrgghhh',\n",
       " 'aal',\n",
       " 'aan',\n",
       " 'aannnnd',\n",
       " 'aar',\n",
       " 'ab',\n",
       " 'aba']"
      ]
     },
     "execution_count": 14,
     "metadata": {},
     "output_type": "execute_result"
    }
   ],
   "source": [
    "stop_words = stopwords.words('english')\n",
    "vectorizer = CountVectorizer(stop_words = stop_words, tokenizer = lambda text: tokenizer.tokenize(text))\n",
    "\n",
    "#docs = np.array(X_processed['text'])\n",
    "X_train_bag = vectorizer.fit_transform(X_train)\n",
    "X_test_bag = vectorizer.transform(X_test)\n",
    "print('Size of vocabulary:', X_train_bag.shape)\n",
    "#vectorizer.get_feature_names()\n",
    "\n",
    "vectorizer.get_feature_names()[:10]\n"
   ]
  },
  {
   "cell_type": "markdown",
   "id": "1caf9ff8",
   "metadata": {},
   "source": [
    "From looking at the vectorizer feature names, it seems that there are words that are not actually words or spelled incorrectly. For example, there are a few words that are spelt in such a way to emphasize prolonged emphasis (e.g. \"aaarrrgghhh\"). This may add noise to the dataset and may affect how the models classify the text."
   ]
  },
  {
   "cell_type": "code",
   "execution_count": 15,
   "id": "36a852f5",
   "metadata": {},
   "outputs": [
    {
     "name": "stdout",
     "output_type": "stream",
     "text": [
      "Accuracy score: 0.800\n"
     ]
    }
   ],
   "source": [
    "# for now, use a simple logistic regression model to predict the classes\n",
    "clf = LogisticRegression(random_state=0)\n",
    "clf.fit(X_train_bag, y_train)\n",
    "y_pred = clf.predict(X_test_bag)\n",
    "\n",
    "print('Accuracy score: %.3f' %metrics.accuracy_score(y_test, y_pred) )\n",
    "\n"
   ]
  },
  {
   "cell_type": "code",
   "execution_count": 16,
   "id": "4ac1c2c7",
   "metadata": {},
   "outputs": [
    {
     "data": {
      "image/png": "[encoded data removed]",
      "text/plain": [
       "<Figure size 432x288 with 2 Axes>"
      ]
     },
     "metadata": {
      "needs_background": "light"
     },
     "output_type": "display_data"
    }
   ],
   "source": [
    "# Confusion matrix illustrating the hit rate of the model \n",
    "from sklearn.metrics import confusion_matrix\n",
    "conf_mat = confusion_matrix(y_test, y_pred)\n",
    "sns.heatmap(conf_mat, annot=True, fmt='d')\n",
    "plt.show()"
   ]
  },
  {
   "cell_type": "code",
   "execution_count": 17,
   "id": "87ba8426",
   "metadata": {
    "scrolled": true
   },
   "outputs": [
    {
     "name": "stdout",
     "output_type": "stream",
     "text": [
      "ROC-AUC score: 0.855\n"
     ]
    },
    {
     "data": {
      "image/png": "[encoded data removed]",
      "text/plain": [
       "<Figure size 432x288 with 1 Axes>"
      ]
     },
     "metadata": {
      "needs_background": "light"
     },
     "output_type": "display_data"
    }
   ],
   "source": [
    "# ROC curve\n",
    "from sklearn.metrics import roc_auc_score\n",
    "from sklearn.metrics import roc_curve \n",
    "\n",
    "# the predict_proba function will output probabilities for both classes\n",
    "# when using the roc_auc_score, only use the positive outcome probabilities\n",
    "y_probs_bag = clf.predict_proba(X_test_bag)[:,1]\n",
    "lr_bag_roc_auc = roc_auc_score(y_test, y_probs_bag) \n",
    "print('ROC-AUC score: %.3f' %lr_bag_roc_auc)\n",
    "\n",
    "lr_bag_fpr, lr_bag_tpr, _ = roc_curve(y_test, y_probs_bag)\n",
    "\n",
    "plt.plot(lr_bag_fpr, lr_bag_tpr, marker = '.', label='Logistic')\n",
    "plt.xlabel('FP Rate')\n",
    "plt.ylabel('TP Rate')\n",
    "plt.title('ROC-AUC Curve')\n",
    "plt.legend()\n",
    "plt.show()\n",
    "# y_test.shape\n",
    "# y_probs.shape"
   ]
  },
  {
   "cell_type": "code",
   "execution_count": 18,
   "id": "a6adf053",
   "metadata": {
    "scrolled": false
   },
   "outputs": [
    {
     "name": "stdout",
     "output_type": "stream",
     "text": [
      "Logistic f1: 0.751, auc: 0.848\n"
     ]
    },
    {
     "data": {
      "image/png": "[encoded data removed]",
      "text/plain": [
       "<Figure size 432x288 with 1 Axes>"
      ]
     },
     "metadata": {
      "needs_background": "light"
     },
     "output_type": "display_data"
    }
   ],
   "source": [
    "# precision recall curve\n",
    "from sklearn.metrics import precision_recall_curve\n",
    "from sklearn.metrics import f1_score\n",
    "from sklearn.metrics import auc \n",
    "\n",
    "lr_bag_precision, lr_bag_recall, _ = precision_recall_curve(y_test, y_probs_bag)\n",
    "lr_bag_f1 = f1_score(y_test, y_pred)\n",
    "lr_bag_auc = auc(lr_bag_recall, lr_bag_precision)\n",
    "\n",
    "print('Logistic f1: %.3f, auc: %.3f' % (lr_bag_f1, lr_bag_auc))\n",
    "no_skill = len(y_test[y_test==1])/len(y_test)\n",
    "\n",
    "plt.plot([0, 1], [no_skill, no_skill], linestyle='--', label='No Skill')\n",
    "plt.plot(lr_bag_recall, lr_bag_precision, marker='.', label='Logistic')\n",
    "plt.xlabel('Recall')\n",
    "plt.ylabel('Precision')\n",
    "plt.title('Precision-Recall Curve')\n",
    "plt.legend()\n",
    "plt.show()"
   ]
  },
  {
   "cell_type": "markdown",
   "id": "bbadf0fc",
   "metadata": {},
   "source": [
    "After creating the bag of words model, I applied a logistic regression classifier to the vectorized data. The model achieved an accuracy of 80%. I also evaluated and plotted other parmeters such as the ROC curve, AUC, F1 score and the precision-recall curve. The ROC and precision-recall shows how well the model performs at various classification thresholds, while the precision-recall curve illustrates the tradeoff between precision and recall at various thresholds. A precision-recall curve is mainly used for majorly imbalanced classes, but I provided the plot for additional insight. A model is performing relatively well if the ROC curve is closer to the top-left corner. A high area under the curve for the precision-recall curve also indicates higher precision and higher recall. Based on the plots above, the model performs relatively well and is at least better than a model that guesses randomly."
   ]
  },
  {
   "cell_type": "markdown",
   "id": "a49feca9",
   "metadata": {},
   "source": [
    "### Task 2 - Feature Generation and Traditional ML Model\n",
    "\n",
    "For this task, I will use the same processed text as earlier though I will use a different vectorizer. I will also look at 3 different types of classifiers, LinearSVC, Logistic Regression and a MultinomialNB. I will evaluate which classifier is the best upon looking at the relevant metrics (e.g. accuracy, precision, recall, f1-score, auc, etc.). Typically in these cases where there may be a large number of features compared to the number of samples, Logistic Regression and SVMs with linear kernels will perform better. "
   ]
  },
  {
   "cell_type": "code",
   "execution_count": 19,
   "id": "9e56220a",
   "metadata": {},
   "outputs": [],
   "source": [
    "from sklearn.feature_extraction.text import TfidfVectorizer \n",
    "from sklearn.svm import LinearSVC\n",
    "from sklearn.calibration import CalibratedClassifierCV\n",
    "from sklearn.naive_bayes import MultinomialNB\n",
    "\n",
    "# will try out LogisticRegression, MultinomialNB and LinearSVC to see which produces the best results\n",
    "\n",
    "# will try a TFIDF vectorizer \n",
    "tfidf_vectorizer = TfidfVectorizer(use_idf=True, stop_words=stop_words, tokenizer = lambda text: tokenizer.tokenize(text))\n",
    "\n",
    "svc = LinearSVC(random_state=0)\n",
    "nb = MultinomialNB()\n",
    "lr = LogisticRegression(random_state=0)"
   ]
  },
  {
   "cell_type": "code",
   "execution_count": 20,
   "id": "f3f71363",
   "metadata": {},
   "outputs": [],
   "source": [
    "# apply tfidfvectorizer on processed text \n",
    "X_train_tfidf = tfidf_vectorizer.fit_transform(X_train)\n",
    "X_test_tfidf = tfidf_vectorizer.transform(X_test)\n"
   ]
  },
  {
   "cell_type": "code",
   "execution_count": 21,
   "id": "e6d5ee84",
   "metadata": {},
   "outputs": [
    {
     "name": "stdout",
     "output_type": "stream",
     "text": [
      "Accuracy scores for SVC : 0.785\n",
      "Accuracy scores for NB : 0.807\n",
      "Accuracy scores for LR : 0.813\n"
     ]
    }
   ],
   "source": [
    "# Predict probabilities using SVC\n",
    "svc.fit(X_train_tfidf, y_train)\n",
    "y_pred_svc = svc.predict(X_test_tfidf)\n",
    "svc_clf = CalibratedClassifierCV(svc)\n",
    "svc_clf.fit(X_train_tfidf, y_train)\n",
    "y_probs_svc = svc_clf.predict_proba(X_test_tfidf)[:, 1]\n",
    "\n",
    "\n",
    "# Predict probabilities using MultinomialNB\n",
    "nb.fit(X_train_tfidf, y_train)\n",
    "y_pred_nb = nb.predict(X_test_tfidf)\n",
    "y_probs_nb = nb.predict_proba(X_test_tfidf)[:,1]\n",
    "\n",
    "\n",
    "# Predict probabilities using LogisticRegression\n",
    "lr.fit(X_train_tfidf, y_train)\n",
    "y_pred_lr = lr.predict(X_test_tfidf)\n",
    "y_probs_lr = lr.predict_proba(X_test_tfidf)[:,1]\n",
    "\n",
    "y_pred_clfs = [y_pred_svc, y_pred_nb, y_pred_lr]\n",
    "y_probs_clfs = [y_probs_svc, y_probs_nb, y_probs_lr]\n",
    "\n",
    "accuracy_scores = []\n",
    "for clfs in y_pred_clfs:\n",
    "    accuracy_scores.append(metrics.accuracy_score(clfs, y_test))\n",
    "\n",
    "models = ['SVC', 'NB', 'LR']\n",
    "for i in range(len(models)):\n",
    "    print('Accuracy scores for', models[i], ': %.3f' %accuracy_scores[i])"
   ]
  },
  {
   "cell_type": "code",
   "execution_count": 22,
   "id": "f2b46197",
   "metadata": {},
   "outputs": [
    {
     "name": "stdout",
     "output_type": "stream",
     "text": [
      "SVC ROC-AUC score: 0.852\n",
      "NB ROC-AUC score: 0.854\n",
      "LR ROC-AUC score: 0.860\n"
     ]
    },
    {
     "data": {
      "image/png": "[encoded data removed]",
      "text/plain": [
       "<Figure size 432x288 with 1 Axes>"
      ]
     },
     "metadata": {
      "needs_background": "light"
     },
     "output_type": "display_data"
    }
   ],
   "source": [
    "for i in range(len(models)):\n",
    "    auc_roc = roc_auc_score(y_test, y_probs_clfs[i])\n",
    "    fpr, tpr, _ = roc_curve(y_test, y_probs_clfs[i])\n",
    "    plt.plot(fpr, tpr, label=models[i])\n",
    "    print(models[i], 'ROC-AUC score: %.3f' % auc_roc)\n",
    "    \n",
    "plt.xlabel('FP Rate')\n",
    "plt.ylabel('TP Rate')\n",
    "plt.title('ROC-AUC Curve')\n",
    "plt.legend()\n",
    "plt.show()\n"
   ]
  },
  {
   "cell_type": "code",
   "execution_count": 23,
   "id": "ac5e7fb2",
   "metadata": {
    "scrolled": true
   },
   "outputs": [
    {
     "name": "stdout",
     "output_type": "stream",
     "text": [
      "SVC f1: 0.740466, auc: 0.845\n",
      "NB f1: 0.747706, auc: 0.854\n",
      "LR f1: 0.758074, auc: 0.855\n"
     ]
    },
    {
     "data": {
      "image/png": "[encoded data removed]",
      "text/plain": [
       "<Figure size 432x288 with 1 Axes>"
      ]
     },
     "metadata": {
      "needs_background": "light"
     },
     "output_type": "display_data"
    }
   ],
   "source": [
    "for i in range(len(models)):\n",
    "    precision, recall, _ = precision_recall_curve(y_test, y_probs_clfs[i])\n",
    "    f1 = f1_score(y_test, y_pred_clfs[i])\n",
    "    auc_score = auc(recall, precision)\n",
    "    print(models[i], 'f1: %3f, auc: %.3f' %(f1, auc_score) )\n",
    "    \n",
    "    plt.plot(recall, precision, label=models[i])\n",
    "\n",
    "plt.xlabel('Recall')\n",
    "plt.ylabel('Precision')\n",
    "plt.title('Precision-Recall Curve')\n",
    "plt.legend()\n",
    "plt.show()\n",
    "\n"
   ]
  },
  {
   "cell_type": "code",
   "execution_count": 24,
   "id": "1d26ae70",
   "metadata": {},
   "outputs": [
    {
     "name": "stdout",
     "output_type": "stream",
     "text": [
      "Confusion matrix for: SVC\n"
     ]
    },
    {
     "data": {
      "image/png": "[encoded data removed]",
      "text/plain": [
       "<Figure size 432x288 with 2 Axes>"
      ]
     },
     "metadata": {
      "needs_background": "light"
     },
     "output_type": "display_data"
    },
    {
     "name": "stdout",
     "output_type": "stream",
     "text": [
      "Confusion matrix for: NB\n"
     ]
    },
    {
     "data": {
      "image/png": "[encoded data removed]",
      "text/plain": [
       "<Figure size 432x288 with 2 Axes>"
      ]
     },
     "metadata": {
      "needs_background": "light"
     },
     "output_type": "display_data"
    },
    {
     "name": "stdout",
     "output_type": "stream",
     "text": [
      "Confusion matrix for: LR\n"
     ]
    },
    {
     "data": {
      "image/png": "[encoded data removed]",
      "text/plain": [
       "<Figure size 432x288 with 2 Axes>"
      ]
     },
     "metadata": {
      "needs_background": "light"
     },
     "output_type": "display_data"
    }
   ],
   "source": [
    "# Confusion matrix illustrating the hit rate of the model \n",
    "from sklearn.metrics import confusion_matrix\n",
    "for i in range(len(models)):\n",
    "    print('Confusion matrix for:', models[i])\n",
    "    conf_mat = confusion_matrix(y_test, y_pred_clfs[i])\n",
    "    sns.heatmap(conf_mat, annot=True, fmt='d')\n",
    "    plt.show()"
   ]
  },
  {
   "cell_type": "markdown",
   "id": "f7419533",
   "metadata": {},
   "source": [
    "Given the accuracy, F1 and AUC scores, the TF-IDF model with a Logistic Regression classifier seems to work best in this case. While the performance is not significantly better than the other classifiers or even the bag of words model, it still had the highest accuracy at 81% and it's F1 and AUC scores were still higher than the other models. "
   ]
  },
  {
   "cell_type": "markdown",
   "id": "0e0c8f1e",
   "metadata": {},
   "source": [
    "### Task 3 - Pre-trained Word Embeddings and Linear Classifier Model"
   ]
  },
  {
   "cell_type": "code",
   "execution_count": 25,
   "id": "3294d83d",
   "metadata": {},
   "outputs": [],
   "source": [
    "glove_model = {}\n",
    "with open(\"glove.twitter.27B.200d.txt\",'r', encoding=\"utf-8\") as f:\n",
    "    for line in f:\n",
    "        split_line = line.split()\n",
    "        word = split_line[0]\n",
    "        embedding = np.array(split_line[1:], dtype=np.float64)\n",
    "        glove_model[word] = embedding"
   ]
  },
  {
   "cell_type": "code",
   "execution_count": 26,
   "id": "d7f5f7de",
   "metadata": {
    "scrolled": true
   },
   "outputs": [
    {
     "data": {
      "text/plain": [
       "1193514"
      ]
     },
     "execution_count": 26,
     "metadata": {},
     "output_type": "execute_result"
    }
   ],
   "source": [
    "glove_model['<user>']\n",
    "glove_model['<hashtag>']\n",
    "glove_model['<number>']\n",
    "\n",
    "len(glove_model)"
   ]
  },
  {
   "cell_type": "markdown",
   "id": "7255bd23",
   "metadata": {},
   "source": [
    "For this task, I have decided to use the twitter glove embeddings (1193514 x 100) since they will be the most relevant considering our own dataset is composed of tweets. To create a single embedding, I will average over the word vectors, i.e. the *i*-th element in the single embedding will be the average over the *i*-th elements of all of the word vectors, as this is the simplest method of creating a single embedding of the entire sequence.\n",
    "\n",
    "The glove twitter embeddings actually have a key for values such as hashtags, twitter handles, urls, etc. Rather than removing them as for the Bag of Words model and the TF-IDF model, we can convert them to their glove embedding key to maintain the context of the tweet.  \n"
   ]
  },
  {
   "cell_type": "code",
   "execution_count": 27,
   "id": "799f5e08",
   "metadata": {},
   "outputs": [],
   "source": [
    "# Preprocess the text\n",
    "X_proc_embed = train.copy()\n",
    "\n",
    "def process_tweet(tweet):\n",
    "    \n",
    "    tweet = tweet.lower()\n",
    "    \n",
    "    tweet = re.sub(r'(http\\S+)', '<url>', tweet)\n",
    "    \n",
    "    tweet = re.sub(r'(@\\S+)', '<user>', tweet)\n",
    "    \n",
    "    tweet = re.sub(r'(#\\S+)', '<hashtag>', tweet)\n",
    "    \n",
    "    tweet = re.sub(r'(\\d+)', '<number>', tweet)\n",
    "    \n",
    "    tweet = re.sub(r\"(')\", '', tweet)\n",
    "    \n",
    "    tweet = re.sub(r'([^\\x00-\\x7F]+)', ' ', tweet)\n",
    "    \n",
    "    tweet = re.sub(r'(\\s+)', ' ', tweet)\n",
    "    \n",
    "    return tweet"
   ]
  },
  {
   "cell_type": "code",
   "execution_count": 28,
   "id": "67650941",
   "metadata": {},
   "outputs": [],
   "source": [
    "# process tweets \n",
    "X_proc_embed['text'] = X_proc_embed['text'].apply(lambda row: process_tweet(row))\n",
    "\n",
    "# Split the data into train and test sets\n",
    "X_embed = np.array(X_proc_embed['text'])\n",
    "y_embed = np.array(X_processed['target'])\n",
    "X_train_embed, X_test_embed, y_train_embed, y_test_embed = train_test_split(X_embed, y_embed, test_size = 0.3, random_state=42)\n"
   ]
  },
  {
   "cell_type": "code",
   "execution_count": 29,
   "id": "a019efc1",
   "metadata": {},
   "outputs": [],
   "source": [
    "# Create an embedding vectorizer that will vectorize the text data using the pre-trained emebddings\n",
    "class EmbeddingVectorizer():\n",
    "    def __init__(self, model, embed_dim):\n",
    "        self.word_vectors = model\n",
    "        self.embed_dim = embed_dim\n",
    "        \n",
    "    def fit(self, words):\n",
    "        pass\n",
    "    \n",
    "    def transform(self, docs):\n",
    "        self.D = len(docs)\n",
    "        \n",
    "        X_embed = np.zeros((self.D, self.embed_dim))\n",
    "        n=0\n",
    "\n",
    "        # get the specific sentence\n",
    "        for seq in docs:\n",
    "            tokens = seq.split()\n",
    "            vecs = []\n",
    "            for tok in tokens:\n",
    "                try: \n",
    "                    vec = self.word_vectors[tok]\n",
    "                    vecs.append(vec)\n",
    "                except KeyError:\n",
    "                    pass\n",
    "            # essentially ignore the word if it does not appear in the glove embeddings\n",
    "            if len(vecs)==0:\n",
    "                # will keep the 0-vector \n",
    "                pass\n",
    "            else:\n",
    "                vecs = np.array(vecs)\n",
    "                X_embed[n] = vecs.mean(axis=0)\n",
    "            n+=1\n",
    "        return X_embed\n",
    "    \n",
    "    def fit_transform(self, docs):\n",
    "        self.fit(docs)\n",
    "        return self.transform(docs)\n",
    "\n",
    "        "
   ]
  },
  {
   "cell_type": "code",
   "execution_count": 30,
   "id": "c6f492e0",
   "metadata": {},
   "outputs": [],
   "source": [
    "wordvec = EmbeddingVectorizer(glove_model, 200)\n",
    "\n",
    "X_train_vec = wordvec.fit_transform(X_train_embed)\n",
    "X_test_vec = wordvec.transform(X_test_embed)\n",
    "\n",
    "# X_test_vec"
   ]
  },
  {
   "cell_type": "code",
   "execution_count": 31,
   "id": "94ba4fde",
   "metadata": {},
   "outputs": [
    {
     "name": "stdout",
     "output_type": "stream",
     "text": [
      "Accuracy for SGD classifier using glove embeddings: 0.802\n"
     ]
    }
   ],
   "source": [
    "from sklearn.linear_model import SGDClassifier\n",
    "\n",
    "sgd = SGDClassifier(max_iter=100000, alpha=0.01, random_state=42)\n",
    "# need to wrap the classifier in order to calculate the probabilities \n",
    "sgd_cal_clf = CalibratedClassifierCV(sgd)\n",
    "sgd_cal_clf.fit(X_train_vec, y_train_embed)\n",
    "y_pred_sgd = sgd_cal_clf.predict(X_test_vec)\n",
    "y_probs_sgd = sgd_cal_clf.predict_proba(X_test_vec)[:,1]\n",
    "\n",
    "print('Accuracy for SGD classifier using glove embeddings: %.3f' %metrics.accuracy_score(y_test_embed, y_pred_sgd))"
   ]
  },
  {
   "cell_type": "code",
   "execution_count": 32,
   "id": "8801cb6c",
   "metadata": {},
   "outputs": [
    {
     "name": "stdout",
     "output_type": "stream",
     "text": [
      "SGD ROC-AUC score: 0.858\n"
     ]
    },
    {
     "data": {
      "image/png": "[encoded data removed]",
      "text/plain": [
       "<Figure size 432x288 with 1 Axes>"
      ]
     },
     "metadata": {
      "needs_background": "light"
     },
     "output_type": "display_data"
    }
   ],
   "source": [
    "#y_probs = clf.predict_proba(X_test_bag)\n",
    "sgd_auc_roc = roc_auc_score(y_test_embed, y_probs_sgd) \n",
    "print('SGD ROC-AUC score: %.3f' %sgd_auc_roc)\n",
    "\n",
    "sgd_fpr, sgd_tpr, _ = roc_curve(y_test_embed, y_probs_sgd)\n",
    "\n",
    "plt.plot(sgd_fpr, sgd_tpr, marker = '.', label='SGD')\n",
    "plt.xlabel('FP Rate')\n",
    "plt.ylabel('TP Rate')\n",
    "plt.title('ROC-AUC Curve')\n",
    "plt.legend()\n",
    "plt.show()"
   ]
  },
  {
   "cell_type": "code",
   "execution_count": 33,
   "id": "043d4dde",
   "metadata": {},
   "outputs": [
    {
     "name": "stdout",
     "output_type": "stream",
     "text": [
      "SGD f1: 0.749, auc: 0.839\n"
     ]
    },
    {
     "data": {
      "image/png": "[encoded data removed]",
      "text/plain": [
       "<Figure size 432x288 with 1 Axes>"
      ]
     },
     "metadata": {
      "needs_background": "light"
     },
     "output_type": "display_data"
    }
   ],
   "source": [
    "sgd_precision, sgd_recall, _ = precision_recall_curve(y_test_embed, y_probs_sgd)\n",
    "sgd_f1 = f1_score(y_test_embed, y_pred_sgd) \n",
    "sgd_auc_score = auc(sgd_recall, sgd_precision)\n",
    "\n",
    "print('SGD f1: %.3f, auc: %.3f' % (sgd_f1, sgd_auc_score))\n",
    "no_skill = len(y_test_embed[y_test_embed==1])/len(y_test_embed)\n",
    "\n",
    "plt.plot([0, 1], [no_skill, no_skill], linestyle='--', label='No Skill')\n",
    "plt.plot(sgd_recall, sgd_precision, marker='.', label='SGD')\n",
    "plt.xlabel('Recall')\n",
    "plt.ylabel('Precision')\n",
    "plt.title('Precision-Recall Curve')\n",
    "plt.legend()\n",
    "plt.show()"
   ]
  },
  {
   "cell_type": "code",
   "execution_count": 34,
   "id": "a04a7a68",
   "metadata": {
    "scrolled": true
   },
   "outputs": [
    {
     "data": {
      "image/png": "[encoded data removed]",
      "text/plain": [
       "<Figure size 432x288 with 2 Axes>"
      ]
     },
     "metadata": {
      "needs_background": "light"
     },
     "output_type": "display_data"
    }
   ],
   "source": [
    "conf_mat = confusion_matrix(y_test_embed, y_pred_sgd)\n",
    "sns.heatmap(conf_mat, annot=True, fmt='d')\n",
    "plt.show()"
   ]
  },
  {
   "cell_type": "markdown",
   "id": "767c1a8f",
   "metadata": {},
   "source": [
    "Based on the accuracy, f1 score and AUC, the pre-trained word embeddings and the SGD linear classifier performed similarly to the other two models. "
   ]
  },
  {
   "cell_type": "markdown",
   "id": "b19876e9",
   "metadata": {},
   "source": [
    "### Task 4 - Recommendations to the clients "
   ]
  },
  {
   "cell_type": "code",
   "execution_count": 35,
   "id": "3c557864",
   "metadata": {},
   "outputs": [
    {
     "name": "stdout",
     "output_type": "stream",
     "text": [
      "Bag of Words - LR - accuracy: 0.800\n",
      "Bag of Words - LR - accuracy: 0.813\n",
      "Bag of Words - SGD - accuracy: 0.802\n"
     ]
    },
    {
     "data": {
      "image/png": "[encoded data removed]",
      "text/plain": [
       "<Figure size 432x288 with 1 Axes>"
      ]
     },
     "metadata": {
      "needs_background": "light"
     },
     "output_type": "display_data"
    },
    {
     "name": "stdout",
     "output_type": "stream",
     "text": [
      "Bag of Words - LR - ROC-AUC score: 0.848\n",
      "TFIDF - LR - ROC-AUC score: 0.860\n",
      "Word Embeddings - SGD - ROC-AUC score: 0.858\n"
     ]
    },
    {
     "data": {
      "image/png": "[encoded data removed]",
      "text/plain": [
       "<Figure size 432x288 with 1 Axes>"
      ]
     },
     "metadata": {
      "needs_background": "light"
     },
     "output_type": "display_data"
    },
    {
     "name": "stdout",
     "output_type": "stream",
     "text": [
      "Bag of Words - LR - f1: 0.751, auc: 0.848\n",
      "TFIDF - LR - f1: 0.758, auc: 0.855\n",
      "Word Embeddings - SGD - f1: 0.749, auc: 0.839\n"
     ]
    }
   ],
   "source": [
    "# Print out all of the accuracies\n",
    "print('Bag of Words - LR - accuracy: %.3f' % metrics.accuracy_score(y_test, y_pred))\n",
    "print('Bag of Words - LR - accuracy: %.3f' %accuracy_scores[2])\n",
    "print('Bag of Words - SGD - accuracy: %.3f' %metrics.accuracy_score(y_test_embed, y_pred_sgd))\n",
    "\n",
    "# Plot all ROC-AUC curves and their AUC scores\n",
    "lr_auc_roc = roc_auc_score(y_test, y_probs_clfs[2]) \n",
    "lr_fpr, lr_tpr, _ = roc_curve(y_test, y_probs_clfs[2])\n",
    "\n",
    "plt.plot(lr_bag_fpr, lr_bag_tpr, marker = '.', label='BagOfWords- LR')\n",
    "plt.plot(sgd_fpr, sgd_tpr, marker = '.', label='SGD')\n",
    "plt.plot(lr_fpr, lr_tpr, marker = '.', label='TFIDF-LR')\n",
    "plt.xlabel('FP Rate')\n",
    "plt.ylabel('TP Rate')\n",
    "plt.title('ROC-AUC Curve')\n",
    "plt.legend()\n",
    "plt.show()\n",
    "\n",
    "# Print out all ROC-AUC scores\n",
    "print('Bag of Words - LR - ROC-AUC score: %.3f' % lr_bag_auc)\n",
    "print('TFIDF - LR - ROC-AUC score: %.3f' % lr_auc_roc)\n",
    "print('Word Embeddings - SGD - ROC-AUC score: %.3f' % sgd_auc_roc)\n",
    "\n",
    "# Plot out all precision-recall curves \n",
    "\n",
    "lr_precision, lr_recall, _ = precision_recall_curve(y_test, y_probs_clfs[2])\n",
    "lr_f1 = f1_score(y_test, y_pred_clfs[2])\n",
    "lr_auc_score = auc(lr_recall, lr_precision)\n",
    "#print(models[i], 'f1: %3f, auc: %.3f' %(lr_f1, lr_auc_score) )\n",
    "\n",
    "no_skill = len(y_test[y_test==1])/len(y_test)\n",
    "\n",
    "plt.plot([0, 1], [no_skill, no_skill], linestyle='--', label='No Skill')\n",
    "\n",
    "plt.plot(lr_bag_recall, lr_bag_precision, marker='.', label='Bag of Words - LR')\n",
    "plt.plot(lr_recall, lr_precision, marker='.', label='TFIDF - LR')\n",
    "plt.plot(sgd_recall, sgd_precision, marker='.', label='Word Embeddings - SGD')\n",
    "plt.xlabel('Recall')\n",
    "plt.ylabel('Precision')\n",
    "plt.title('Precision-Recall Curve')\n",
    "plt.legend()\n",
    "plt.show()\n",
    "\n",
    "# print out f1 and auc scores for precision-recall curve\n",
    "print('Bag of Words - LR - f1: %.3f, auc: %.3f' % (lr_bag_f1, lr_bag_auc))\n",
    "print('TFIDF - LR - f1: %.3f, auc: %.3f' % (lr_f1, lr_auc_score))\n",
    "print('Word Embeddings - SGD - f1: %.3f, auc: %.3f' % (sgd_f1, sgd_auc_score))\n"
   ]
  },
  {
   "cell_type": "markdown",
   "id": "0be57c3d",
   "metadata": {},
   "source": [
    "#### Recommendations\n",
    "The three models that were evaluated for this task were the Bag of Words model, TF-IDF and a classifier (Logistic Regression), and pre-trained word embedding (glove twitter word embeddings) with a linear classifier (Stochastic Gradient Descent). \n",
    "\n",
    "Based on the accuracy alone, all three models performed very similarly to each other, with an accuracy of around 80%. There may be a few reasons for why there is very little change amongst all of the models. While the text has been preprocessed to remove links, twitter handles, etc., there still may be certain words or typos that are adding noise to the dataset. The labeling in this dataset may also be incorrect. A few of the tweets do not seem to relate to any real disaster, but are labeled 1 in the dataset. This may confuse the model as it is trained to recognize a non-disaster tweet as a real disaster tweet. Further pre-processing and a review of the labels for the dataset is recommended in order to improve performance. \n",
    "\n",
    "Given that the objective of this assignment is to find the simplest model that still gets the job done, the TF-IDF with a Logistic Regression classifier is likely the best choice. The Logistic Regression classifier returned an accuracy score of 81% and other relevant metrics for this model also ranked higher than the other models (as seen in the plots and scores above). While not as basic as a Bag of Words model, the TF-IDF used the same pre-processed text and is still relatively easy to implement. \n",
    "\n",
    "Based on the implementation in this notebook, the pre-trained word embeddings also is not fairly difficult to use. However, some of the advantages to using pre-trained word embeddings are that one does not need to create their own word embeddings and that the embeddings may contain more contextual data. As our objective is to classify text into one of two classes, the advantage of using word embeddings for context may not be as important and a TF-IDF model would likely suffice. \n",
    "\n",
    "For these reasons, the TF-IDF model with a Logistic Regression classifier is likely the best choice. To further improve the accuracy without developing more complex models or hypertuning parameters, a closer look at the text pre-processing should be done. An overview of the dataset's target labels should is also recommended in order to ensure the models are being trained on correctly labeled data. \n"
   ]
  }
 ],
 "metadata": {
  "kernelspec": {
   "display_name": "Python 3 (ipykernel)",
   "language": "python",
   "name": "python3"
  },
  "language_info": {
   "codemirror_mode": {
    "name": "ipython",
    "version": 3
   },
   "file_extension": ".py",
   "mimetype": "text/x-python",
   "name": "python",
   "nbconvert_exporter": "python",
   "pygments_lexer": "ipython3",
   "version": "3.9.7"
  }
 },
 "nbformat": 4,
 "nbformat_minor": 5
}
